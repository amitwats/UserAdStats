{
 "cells": [
  {
   "cell_type": "markdown",
   "metadata": {},
   "source": [
    "# User Ad stats\n",
    "\n",
    "The aim of this project is to analyse the type of ads users are likely to view. This would help us improve targeted ads conversion rate.\n"
   ]
  },
  {
   "cell_type": "code",
   "execution_count": 57,
   "metadata": {},
   "outputs": [
    {
     "data": {
      "text/plain": [
       "Index(['Unnamed: 0', 'id', 'track_name', 'size_bytes', 'currency', 'price',\n",
       "       'rating_count_tot', 'rating_count_ver', 'user_rating',\n",
       "       'user_rating_ver', 'ver', 'cont_rating', 'prime_genre',\n",
       "       'sup_devices.num', 'ipadSc_urls.num', 'lang.num', 'vpp_lic'],\n",
       "      dtype='object')"
      ]
     },
     "execution_count": 57,
     "metadata": {},
     "output_type": "execute_result"
    }
   ],
   "source": [
    "import pandas as pd\n",
    "\n",
    "appleStoreDF=pd.read_csv(\"Documents/Amit/Learn/DataQuest/UserStats/apple-store/AppleStore.csv\")\n",
    "googleStoreDF=pd.read_csv(\"Documents/Amit/Learn/DataQuest/UserStats/google-store/googleplaystore.csv\")\n",
    "\n",
    "\n",
    "\n",
    "appleStoreDF.columns\n",
    "    \n",
    "\n",
    "\n",
    "\n"
   ]
  },
  {
   "cell_type": "code",
   "execution_count": 30,
   "metadata": {},
   "outputs": [
    {
     "data": {
      "text/plain": [
       "Index(['Unnamed: 0', 'id', 'track_name', 'size_bytes', 'currency', 'price',\n",
       "       'rating_count_tot', 'rating_count_ver', 'user_rating',\n",
       "       'user_rating_ver', 'ver', 'cont_rating', 'prime_genre',\n",
       "       'sup_devices.num', 'ipadSc_urls.num', 'lang.num', 'vpp_lic'],\n",
       "      dtype='object')"
      ]
     },
     "execution_count": 30,
     "metadata": {},
     "output_type": "execute_result"
    }
   ],
   "source": [
    "appleStoreDF.columns\n",
    "#googleStoreDF[10472:10473,1:2]"
   ]
  },
  {
   "cell_type": "code",
   "execution_count": 49,
   "metadata": {},
   "outputs": [
    {
     "data": {
      "text/plain": [
       "10472    Life Made WI-Fi Touchscreen Photo Frame\n",
       "Name: App, dtype: object"
      ]
     },
     "execution_count": 49,
     "metadata": {},
     "output_type": "execute_result"
    }
   ],
   "source": [
    "googleStoreDF.loc[10472:10472,\"App\"]"
   ]
  },
  {
   "cell_type": "code",
   "execution_count": 58,
   "metadata": {},
   "outputs": [],
   "source": [
    "googleStoreDF.loc[10472:10472,'Android Ver']=googleStoreDF.loc[10472:10472,'Current Ver']\n",
    "googleStoreDF.loc[10472:10472,'Current Ver']=googleStoreDF.loc[10472:10472,'Last Updated']\n",
    "googleStoreDF.loc[10472:10472,'Last Updated']=googleStoreDF.loc[10472:10472,'Genres']\n",
    "googleStoreDF.loc[10472:10472,'Genres']=googleStoreDF.loc[10472:10472,'Content Rating']\n",
    "googleStoreDF.loc[10472:10472,'Content Rating']=googleStoreDF.loc[10472:10472,'Price']\n",
    "googleStoreDF.loc[10472:10472,'Price']=googleStoreDF.loc[10472:10472,'Type']\n",
    "googleStoreDF.loc[10472:10472,'Type']=googleStoreDF.loc[10472:10472,'Installs']\n",
    "googleStoreDF.loc[10472:10472,'Installs']=googleStoreDF.loc[10472:10472,'Size']\n",
    "googleStoreDF.loc[10472:10472,'Size']=googleStoreDF.loc[10472:10472,'Reviews']\n",
    "googleStoreDF.loc[10472:10472,'Reviews']=googleStoreDF.loc[10472:10472,'Rating']\n",
    "googleStoreDF.loc[10472:10472,'Rating']=googleStoreDF.loc[10472:10472,'Category']\n",
    "\n",
    "googleStoreDF.loc[10472:10472,'Category']=\"\"\n"
   ]
  },
  {
   "cell_type": "code",
   "execution_count": 59,
   "metadata": {},
   "outputs": [
    {
     "data": {
      "text/html": [
       "<div>\n",
       "<style scoped>\n",
       "    .dataframe tbody tr th:only-of-type {\n",
       "        vertical-align: middle;\n",
       "    }\n",
       "\n",
       "    .dataframe tbody tr th {\n",
       "        vertical-align: top;\n",
       "    }\n",
       "\n",
       "    .dataframe thead th {\n",
       "        text-align: right;\n",
       "    }\n",
       "</style>\n",
       "<table border=\"1\" class=\"dataframe\">\n",
       "  <thead>\n",
       "    <tr style=\"text-align: right;\">\n",
       "      <th></th>\n",
       "      <th>App</th>\n",
       "      <th>Category</th>\n",
       "      <th>Rating</th>\n",
       "      <th>Reviews</th>\n",
       "      <th>Size</th>\n",
       "      <th>Installs</th>\n",
       "      <th>Type</th>\n",
       "      <th>Price</th>\n",
       "      <th>Content Rating</th>\n",
       "      <th>Genres</th>\n",
       "      <th>Last Updated</th>\n",
       "      <th>Current Ver</th>\n",
       "      <th>Android Ver</th>\n",
       "    </tr>\n",
       "  </thead>\n",
       "  <tbody>\n",
       "    <tr>\n",
       "      <th>10472</th>\n",
       "      <td>Life Made WI-Fi Touchscreen Photo Frame</td>\n",
       "      <td></td>\n",
       "      <td>1.9</td>\n",
       "      <td>19</td>\n",
       "      <td>3.0M</td>\n",
       "      <td>1,000+</td>\n",
       "      <td>Free</td>\n",
       "      <td>0</td>\n",
       "      <td>Everyone</td>\n",
       "      <td>NaN</td>\n",
       "      <td>February 11, 2018</td>\n",
       "      <td>1.0.19</td>\n",
       "      <td>4.0 and up</td>\n",
       "    </tr>\n",
       "  </tbody>\n",
       "</table>\n",
       "</div>"
      ],
      "text/plain": [
       "                                           App Category Rating Reviews  Size  \\\n",
       "10472  Life Made WI-Fi Touchscreen Photo Frame             1.9      19  3.0M   \n",
       "\n",
       "      Installs  Type Price Content Rating Genres       Last Updated  \\\n",
       "10472   1,000+  Free     0       Everyone    NaN  February 11, 2018   \n",
       "\n",
       "      Current Ver Android Ver  \n",
       "10472      1.0.19  4.0 and up  "
      ]
     },
     "execution_count": 59,
     "metadata": {},
     "output_type": "execute_result"
    }
   ],
   "source": [
    "googleStoreDF.loc[10472:10472]"
   ]
  },
  {
   "cell_type": "code",
   "execution_count": null,
   "metadata": {},
   "outputs": [],
   "source": []
  }
 ],
 "metadata": {
  "kernelspec": {
   "display_name": "Python 3",
   "language": "python",
   "name": "python3"
  },
  "language_info": {
   "codemirror_mode": {
    "name": "ipython",
    "version": 3
   },
   "file_extension": ".py",
   "mimetype": "text/x-python",
   "name": "python",
   "nbconvert_exporter": "python",
   "pygments_lexer": "ipython3",
   "version": "3.7.3"
  }
 },
 "nbformat": 4,
 "nbformat_minor": 4
}
